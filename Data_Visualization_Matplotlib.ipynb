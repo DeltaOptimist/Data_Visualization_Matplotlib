{
  "nbformat": 4,
  "nbformat_minor": 0,
  "metadata": {
    "colab": {
      "name": "Data_Visualization_Matplotlib.ipynb",
      "provenance": [],
      "collapsed_sections": []
    },
    "kernelspec": {
      "name": "python3",
      "display_name": "Python 3"
    }
  },
  "cells": [
    {
      "cell_type": "markdown",
      "metadata": {
        "id": "MDXD6xJMIxEo"
      },
      "source": [
        "**Here are the Visualization We’ll Design using matplotlib**\r\n",
        "\r\n",
        "Bar Graph\r\n",
        "\r\n",
        "Box Plot\r\n",
        "\r\n",
        "Histogram\r\n",
        "\r\n",
        "Line Chart and Subplots\r\n",
        "\r\n",
        "Scatter Plot\r\n",
        " \r\n",
        "Pie Chart\r\n",
        "\r\n",
        "Violin Chart"
      ]
    },
    {
      "cell_type": "markdown",
      "metadata": {
        "id": "0XqcXr5AJYvd"
      },
      "source": [
        "**We will be analyzing the Food Demand Forecasting project using  matplotlib library**"
      ]
    },
    {
      "cell_type": "markdown",
      "metadata": {
        "id": "4UzneE8wJkxk"
      },
      "source": [
        "Let us first import the relevant libraries:"
      ]
    },
    {
      "cell_type": "code",
      "metadata": {
        "id": "yS2_M6GsJqzh"
      },
      "source": [
        "import pandas as pd \r\n",
        "import numpy as np \r\n",
        "import matplotlib.pyplot as plt \r\n",
        "plt.style.use('seaborn')"
      ],
      "execution_count": null,
      "outputs": []
    },
    {
      "cell_type": "code",
      "metadata": {
        "colab": {
          "base_uri": "https://localhost:8080/",
          "height": 195
        },
        "id": "ZHeeyofwJvsa",
        "outputId": "dd102526-af05-4b60-f365-dc0abcce4de8"
      },
      "source": [
        "df_meal = pd.read_csv('/content/sample_data/meal_info.csv') \r\n",
        "df_meal.head()"
      ],
      "execution_count": null,
      "outputs": [
        {
          "output_type": "execute_result",
          "data": {
            "text/html": [
              "<div>\n",
              "<style scoped>\n",
              "    .dataframe tbody tr th:only-of-type {\n",
              "        vertical-align: middle;\n",
              "    }\n",
              "\n",
              "    .dataframe tbody tr th {\n",
              "        vertical-align: top;\n",
              "    }\n",
              "\n",
              "    .dataframe thead th {\n",
              "        text-align: right;\n",
              "    }\n",
              "</style>\n",
              "<table border=\"1\" class=\"dataframe\">\n",
              "  <thead>\n",
              "    <tr style=\"text-align: right;\">\n",
              "      <th></th>\n",
              "      <th>meal_id</th>\n",
              "      <th>category</th>\n",
              "      <th>cuisine</th>\n",
              "    </tr>\n",
              "  </thead>\n",
              "  <tbody>\n",
              "    <tr>\n",
              "      <th>0</th>\n",
              "      <td>1885</td>\n",
              "      <td>Beverages</td>\n",
              "      <td>Thai</td>\n",
              "    </tr>\n",
              "    <tr>\n",
              "      <th>1</th>\n",
              "      <td>1993</td>\n",
              "      <td>Beverages</td>\n",
              "      <td>Thai</td>\n",
              "    </tr>\n",
              "    <tr>\n",
              "      <th>2</th>\n",
              "      <td>2539</td>\n",
              "      <td>Beverages</td>\n",
              "      <td>Thai</td>\n",
              "    </tr>\n",
              "    <tr>\n",
              "      <th>3</th>\n",
              "      <td>1248</td>\n",
              "      <td>Beverages</td>\n",
              "      <td>Indian</td>\n",
              "    </tr>\n",
              "    <tr>\n",
              "      <th>4</th>\n",
              "      <td>2631</td>\n",
              "      <td>Beverages</td>\n",
              "      <td>Indian</td>\n",
              "    </tr>\n",
              "  </tbody>\n",
              "</table>\n",
              "</div>"
            ],
            "text/plain": [
              "   meal_id   category cuisine\n",
              "0     1885  Beverages    Thai\n",
              "1     1993  Beverages    Thai\n",
              "2     2539  Beverages    Thai\n",
              "3     1248  Beverages  Indian\n",
              "4     2631  Beverages  Indian"
            ]
          },
          "metadata": {
            "tags": []
          },
          "execution_count": 2
        }
      ]
    },
    {
      "cell_type": "code",
      "metadata": {
        "colab": {
          "base_uri": "https://localhost:8080/",
          "height": 195
        },
        "id": "W9N0EH-cJ2Bc",
        "outputId": "f98457a1-4945-42cc-91c6-ad5f6681dde5"
      },
      "source": [
        "df_center = pd.read_csv('/content/sample_data/fulfilment_center_info.csv') \r\n",
        "df_center.head()"
      ],
      "execution_count": null,
      "outputs": [
        {
          "output_type": "execute_result",
          "data": {
            "text/html": [
              "<div>\n",
              "<style scoped>\n",
              "    .dataframe tbody tr th:only-of-type {\n",
              "        vertical-align: middle;\n",
              "    }\n",
              "\n",
              "    .dataframe tbody tr th {\n",
              "        vertical-align: top;\n",
              "    }\n",
              "\n",
              "    .dataframe thead th {\n",
              "        text-align: right;\n",
              "    }\n",
              "</style>\n",
              "<table border=\"1\" class=\"dataframe\">\n",
              "  <thead>\n",
              "    <tr style=\"text-align: right;\">\n",
              "      <th></th>\n",
              "      <th>center_id</th>\n",
              "      <th>city_code</th>\n",
              "      <th>region_code</th>\n",
              "      <th>center_type</th>\n",
              "      <th>op_area</th>\n",
              "    </tr>\n",
              "  </thead>\n",
              "  <tbody>\n",
              "    <tr>\n",
              "      <th>0</th>\n",
              "      <td>11</td>\n",
              "      <td>679</td>\n",
              "      <td>56</td>\n",
              "      <td>TYPE_A</td>\n",
              "      <td>3.7</td>\n",
              "    </tr>\n",
              "    <tr>\n",
              "      <th>1</th>\n",
              "      <td>13</td>\n",
              "      <td>590</td>\n",
              "      <td>56</td>\n",
              "      <td>TYPE_B</td>\n",
              "      <td>6.7</td>\n",
              "    </tr>\n",
              "    <tr>\n",
              "      <th>2</th>\n",
              "      <td>124</td>\n",
              "      <td>590</td>\n",
              "      <td>56</td>\n",
              "      <td>TYPE_C</td>\n",
              "      <td>4.0</td>\n",
              "    </tr>\n",
              "    <tr>\n",
              "      <th>3</th>\n",
              "      <td>66</td>\n",
              "      <td>648</td>\n",
              "      <td>34</td>\n",
              "      <td>TYPE_A</td>\n",
              "      <td>4.1</td>\n",
              "    </tr>\n",
              "    <tr>\n",
              "      <th>4</th>\n",
              "      <td>94</td>\n",
              "      <td>632</td>\n",
              "      <td>34</td>\n",
              "      <td>TYPE_C</td>\n",
              "      <td>3.6</td>\n",
              "    </tr>\n",
              "  </tbody>\n",
              "</table>\n",
              "</div>"
            ],
            "text/plain": [
              "   center_id  city_code  region_code center_type  op_area\n",
              "0         11        679           56      TYPE_A      3.7\n",
              "1         13        590           56      TYPE_B      6.7\n",
              "2        124        590           56      TYPE_C      4.0\n",
              "3         66        648           34      TYPE_A      4.1\n",
              "4         94        632           34      TYPE_C      3.6"
            ]
          },
          "metadata": {
            "tags": []
          },
          "execution_count": 3
        }
      ]
    },
    {
      "cell_type": "code",
      "metadata": {
        "colab": {
          "base_uri": "https://localhost:8080/",
          "height": 195
        },
        "id": "EO84II1QJ-2r",
        "outputId": "82059c8e-93da-4334-f9e4-27e3d4db2a51"
      },
      "source": [
        "df_food = pd.read_csv('/content/sample_data/train.csv') \r\n",
        "df_food.head()"
      ],
      "execution_count": null,
      "outputs": [
        {
          "output_type": "execute_result",
          "data": {
            "text/html": [
              "<div>\n",
              "<style scoped>\n",
              "    .dataframe tbody tr th:only-of-type {\n",
              "        vertical-align: middle;\n",
              "    }\n",
              "\n",
              "    .dataframe tbody tr th {\n",
              "        vertical-align: top;\n",
              "    }\n",
              "\n",
              "    .dataframe thead th {\n",
              "        text-align: right;\n",
              "    }\n",
              "</style>\n",
              "<table border=\"1\" class=\"dataframe\">\n",
              "  <thead>\n",
              "    <tr style=\"text-align: right;\">\n",
              "      <th></th>\n",
              "      <th>id</th>\n",
              "      <th>week</th>\n",
              "      <th>center_id</th>\n",
              "      <th>meal_id</th>\n",
              "      <th>checkout_price</th>\n",
              "      <th>base_price</th>\n",
              "      <th>emailer_for_promotion</th>\n",
              "      <th>homepage_featured</th>\n",
              "      <th>num_orders</th>\n",
              "    </tr>\n",
              "  </thead>\n",
              "  <tbody>\n",
              "    <tr>\n",
              "      <th>0</th>\n",
              "      <td>1379560</td>\n",
              "      <td>1</td>\n",
              "      <td>55</td>\n",
              "      <td>1885</td>\n",
              "      <td>136.83</td>\n",
              "      <td>152.29</td>\n",
              "      <td>0</td>\n",
              "      <td>0</td>\n",
              "      <td>177</td>\n",
              "    </tr>\n",
              "    <tr>\n",
              "      <th>1</th>\n",
              "      <td>1466964</td>\n",
              "      <td>1</td>\n",
              "      <td>55</td>\n",
              "      <td>1993</td>\n",
              "      <td>136.83</td>\n",
              "      <td>135.83</td>\n",
              "      <td>0</td>\n",
              "      <td>0</td>\n",
              "      <td>270</td>\n",
              "    </tr>\n",
              "    <tr>\n",
              "      <th>2</th>\n",
              "      <td>1346989</td>\n",
              "      <td>1</td>\n",
              "      <td>55</td>\n",
              "      <td>2539</td>\n",
              "      <td>134.86</td>\n",
              "      <td>135.86</td>\n",
              "      <td>0</td>\n",
              "      <td>0</td>\n",
              "      <td>189</td>\n",
              "    </tr>\n",
              "    <tr>\n",
              "      <th>3</th>\n",
              "      <td>1338232</td>\n",
              "      <td>1</td>\n",
              "      <td>55</td>\n",
              "      <td>2139</td>\n",
              "      <td>339.50</td>\n",
              "      <td>437.53</td>\n",
              "      <td>0</td>\n",
              "      <td>0</td>\n",
              "      <td>54</td>\n",
              "    </tr>\n",
              "    <tr>\n",
              "      <th>4</th>\n",
              "      <td>1448490</td>\n",
              "      <td>1</td>\n",
              "      <td>55</td>\n",
              "      <td>2631</td>\n",
              "      <td>243.50</td>\n",
              "      <td>242.50</td>\n",
              "      <td>0</td>\n",
              "      <td>0</td>\n",
              "      <td>40</td>\n",
              "    </tr>\n",
              "  </tbody>\n",
              "</table>\n",
              "</div>"
            ],
            "text/plain": [
              "        id  week  ...  homepage_featured  num_orders\n",
              "0  1379560     1  ...                  0         177\n",
              "1  1466964     1  ...                  0         270\n",
              "2  1346989     1  ...                  0         189\n",
              "3  1338232     1  ...                  0          54\n",
              "4  1448490     1  ...                  0          40\n",
              "\n",
              "[5 rows x 9 columns]"
            ]
          },
          "metadata": {
            "tags": []
          },
          "execution_count": 4
        }
      ]
    },
    {
      "cell_type": "code",
      "metadata": {
        "id": "Yuv3kW-PKMBr"
      },
      "source": [
        "df = pd.merge(df_food,df_center,on='center_id') \r\n",
        "df = pd.merge(df,df_meal,on='meal_id')"
      ],
      "execution_count": null,
      "outputs": []
    },
    {
      "cell_type": "code",
      "metadata": {
        "colab": {
          "base_uri": "https://localhost:8080/",
          "height": 422
        },
        "id": "UdpAnFjoKT8k",
        "outputId": "dfde0963-cbe7-4aa7-d28b-7d1adceb457b"
      },
      "source": [
        "df"
      ],
      "execution_count": null,
      "outputs": [
        {
          "output_type": "execute_result",
          "data": {
            "text/html": [
              "<div>\n",
              "<style scoped>\n",
              "    .dataframe tbody tr th:only-of-type {\n",
              "        vertical-align: middle;\n",
              "    }\n",
              "\n",
              "    .dataframe tbody tr th {\n",
              "        vertical-align: top;\n",
              "    }\n",
              "\n",
              "    .dataframe thead th {\n",
              "        text-align: right;\n",
              "    }\n",
              "</style>\n",
              "<table border=\"1\" class=\"dataframe\">\n",
              "  <thead>\n",
              "    <tr style=\"text-align: right;\">\n",
              "      <th></th>\n",
              "      <th>id</th>\n",
              "      <th>week</th>\n",
              "      <th>center_id</th>\n",
              "      <th>meal_id</th>\n",
              "      <th>checkout_price</th>\n",
              "      <th>base_price</th>\n",
              "      <th>emailer_for_promotion</th>\n",
              "      <th>homepage_featured</th>\n",
              "      <th>num_orders</th>\n",
              "      <th>city_code</th>\n",
              "      <th>region_code</th>\n",
              "      <th>center_type</th>\n",
              "      <th>op_area</th>\n",
              "      <th>category</th>\n",
              "      <th>cuisine</th>\n",
              "    </tr>\n",
              "  </thead>\n",
              "  <tbody>\n",
              "    <tr>\n",
              "      <th>0</th>\n",
              "      <td>1379560</td>\n",
              "      <td>1</td>\n",
              "      <td>55</td>\n",
              "      <td>1885</td>\n",
              "      <td>136.83</td>\n",
              "      <td>152.29</td>\n",
              "      <td>0</td>\n",
              "      <td>0</td>\n",
              "      <td>177</td>\n",
              "      <td>647</td>\n",
              "      <td>56</td>\n",
              "      <td>TYPE_C</td>\n",
              "      <td>2.0</td>\n",
              "      <td>Beverages</td>\n",
              "      <td>Thai</td>\n",
              "    </tr>\n",
              "    <tr>\n",
              "      <th>1</th>\n",
              "      <td>1018704</td>\n",
              "      <td>2</td>\n",
              "      <td>55</td>\n",
              "      <td>1885</td>\n",
              "      <td>135.83</td>\n",
              "      <td>152.29</td>\n",
              "      <td>0</td>\n",
              "      <td>0</td>\n",
              "      <td>323</td>\n",
              "      <td>647</td>\n",
              "      <td>56</td>\n",
              "      <td>TYPE_C</td>\n",
              "      <td>2.0</td>\n",
              "      <td>Beverages</td>\n",
              "      <td>Thai</td>\n",
              "    </tr>\n",
              "    <tr>\n",
              "      <th>2</th>\n",
              "      <td>1196273</td>\n",
              "      <td>3</td>\n",
              "      <td>55</td>\n",
              "      <td>1885</td>\n",
              "      <td>132.92</td>\n",
              "      <td>133.92</td>\n",
              "      <td>0</td>\n",
              "      <td>0</td>\n",
              "      <td>96</td>\n",
              "      <td>647</td>\n",
              "      <td>56</td>\n",
              "      <td>TYPE_C</td>\n",
              "      <td>2.0</td>\n",
              "      <td>Beverages</td>\n",
              "      <td>Thai</td>\n",
              "    </tr>\n",
              "    <tr>\n",
              "      <th>3</th>\n",
              "      <td>1116527</td>\n",
              "      <td>4</td>\n",
              "      <td>55</td>\n",
              "      <td>1885</td>\n",
              "      <td>135.86</td>\n",
              "      <td>134.86</td>\n",
              "      <td>0</td>\n",
              "      <td>0</td>\n",
              "      <td>163</td>\n",
              "      <td>647</td>\n",
              "      <td>56</td>\n",
              "      <td>TYPE_C</td>\n",
              "      <td>2.0</td>\n",
              "      <td>Beverages</td>\n",
              "      <td>Thai</td>\n",
              "    </tr>\n",
              "    <tr>\n",
              "      <th>4</th>\n",
              "      <td>1343872</td>\n",
              "      <td>5</td>\n",
              "      <td>55</td>\n",
              "      <td>1885</td>\n",
              "      <td>146.50</td>\n",
              "      <td>147.50</td>\n",
              "      <td>0</td>\n",
              "      <td>0</td>\n",
              "      <td>215</td>\n",
              "      <td>647</td>\n",
              "      <td>56</td>\n",
              "      <td>TYPE_C</td>\n",
              "      <td>2.0</td>\n",
              "      <td>Beverages</td>\n",
              "      <td>Thai</td>\n",
              "    </tr>\n",
              "    <tr>\n",
              "      <th>...</th>\n",
              "      <td>...</td>\n",
              "      <td>...</td>\n",
              "      <td>...</td>\n",
              "      <td>...</td>\n",
              "      <td>...</td>\n",
              "      <td>...</td>\n",
              "      <td>...</td>\n",
              "      <td>...</td>\n",
              "      <td>...</td>\n",
              "      <td>...</td>\n",
              "      <td>...</td>\n",
              "      <td>...</td>\n",
              "      <td>...</td>\n",
              "      <td>...</td>\n",
              "      <td>...</td>\n",
              "    </tr>\n",
              "    <tr>\n",
              "      <th>456543</th>\n",
              "      <td>1437396</td>\n",
              "      <td>141</td>\n",
              "      <td>61</td>\n",
              "      <td>2104</td>\n",
              "      <td>583.03</td>\n",
              "      <td>630.53</td>\n",
              "      <td>0</td>\n",
              "      <td>1</td>\n",
              "      <td>13</td>\n",
              "      <td>473</td>\n",
              "      <td>77</td>\n",
              "      <td>TYPE_A</td>\n",
              "      <td>4.5</td>\n",
              "      <td>Fish</td>\n",
              "      <td>Continental</td>\n",
              "    </tr>\n",
              "    <tr>\n",
              "      <th>456544</th>\n",
              "      <td>1060716</td>\n",
              "      <td>142</td>\n",
              "      <td>61</td>\n",
              "      <td>2104</td>\n",
              "      <td>581.03</td>\n",
              "      <td>582.03</td>\n",
              "      <td>0</td>\n",
              "      <td>0</td>\n",
              "      <td>42</td>\n",
              "      <td>473</td>\n",
              "      <td>77</td>\n",
              "      <td>TYPE_A</td>\n",
              "      <td>4.5</td>\n",
              "      <td>Fish</td>\n",
              "      <td>Continental</td>\n",
              "    </tr>\n",
              "    <tr>\n",
              "      <th>456545</th>\n",
              "      <td>1029231</td>\n",
              "      <td>143</td>\n",
              "      <td>61</td>\n",
              "      <td>2104</td>\n",
              "      <td>583.03</td>\n",
              "      <td>581.03</td>\n",
              "      <td>0</td>\n",
              "      <td>0</td>\n",
              "      <td>40</td>\n",
              "      <td>473</td>\n",
              "      <td>77</td>\n",
              "      <td>TYPE_A</td>\n",
              "      <td>4.5</td>\n",
              "      <td>Fish</td>\n",
              "      <td>Continental</td>\n",
              "    </tr>\n",
              "    <tr>\n",
              "      <th>456546</th>\n",
              "      <td>1141147</td>\n",
              "      <td>144</td>\n",
              "      <td>61</td>\n",
              "      <td>2104</td>\n",
              "      <td>582.03</td>\n",
              "      <td>581.03</td>\n",
              "      <td>0</td>\n",
              "      <td>0</td>\n",
              "      <td>53</td>\n",
              "      <td>473</td>\n",
              "      <td>77</td>\n",
              "      <td>TYPE_A</td>\n",
              "      <td>4.5</td>\n",
              "      <td>Fish</td>\n",
              "      <td>Continental</td>\n",
              "    </tr>\n",
              "    <tr>\n",
              "      <th>456547</th>\n",
              "      <td>1443704</td>\n",
              "      <td>145</td>\n",
              "      <td>61</td>\n",
              "      <td>2104</td>\n",
              "      <td>581.03</td>\n",
              "      <td>582.03</td>\n",
              "      <td>0</td>\n",
              "      <td>0</td>\n",
              "      <td>27</td>\n",
              "      <td>473</td>\n",
              "      <td>77</td>\n",
              "      <td>TYPE_A</td>\n",
              "      <td>4.5</td>\n",
              "      <td>Fish</td>\n",
              "      <td>Continental</td>\n",
              "    </tr>\n",
              "  </tbody>\n",
              "</table>\n",
              "<p>456548 rows × 15 columns</p>\n",
              "</div>"
            ],
            "text/plain": [
              "             id  week  center_id  ...  op_area   category      cuisine\n",
              "0       1379560     1         55  ...      2.0  Beverages         Thai\n",
              "1       1018704     2         55  ...      2.0  Beverages         Thai\n",
              "2       1196273     3         55  ...      2.0  Beverages         Thai\n",
              "3       1116527     4         55  ...      2.0  Beverages         Thai\n",
              "4       1343872     5         55  ...      2.0  Beverages         Thai\n",
              "...         ...   ...        ...  ...      ...        ...          ...\n",
              "456543  1437396   141         61  ...      4.5       Fish  Continental\n",
              "456544  1060716   142         61  ...      4.5       Fish  Continental\n",
              "456545  1029231   143         61  ...      4.5       Fish  Continental\n",
              "456546  1141147   144         61  ...      4.5       Fish  Continental\n",
              "456547  1443704   145         61  ...      4.5       Fish  Continental\n",
              "\n",
              "[456548 rows x 15 columns]"
            ]
          },
          "metadata": {
            "tags": []
          },
          "execution_count": 6
        }
      ]
    },
    {
      "cell_type": "markdown",
      "metadata": {
        "id": "aioOLFFPK_37"
      },
      "source": [
        "1. Bar Graph using matplotlib\r\n",
        "\r\n",
        "\r\n",
        "First, we want to find the most popular food item that customers have bought from the company.\r\n",
        "\r\n",
        "I will be using the Pandas pivot_table function to find the total number of orders for each category of the food item:"
      ]
    },
    {
      "cell_type": "code",
      "metadata": {
        "colab": {
          "base_uri": "https://localhost:8080/",
          "height": 491
        },
        "id": "CkZOT1PVLBlX",
        "outputId": "21d0545f-0e9f-4111-bad3-f98c8c8183d2"
      },
      "source": [
        "table = pd.pivot_table(data=df,index='category',values='num_orders',aggfunc=np.sum)\r\n",
        "table"
      ],
      "execution_count": null,
      "outputs": [
        {
          "output_type": "execute_result",
          "data": {
            "text/html": [
              "<div>\n",
              "<style scoped>\n",
              "    .dataframe tbody tr th:only-of-type {\n",
              "        vertical-align: middle;\n",
              "    }\n",
              "\n",
              "    .dataframe tbody tr th {\n",
              "        vertical-align: top;\n",
              "    }\n",
              "\n",
              "    .dataframe thead th {\n",
              "        text-align: right;\n",
              "    }\n",
              "</style>\n",
              "<table border=\"1\" class=\"dataframe\">\n",
              "  <thead>\n",
              "    <tr style=\"text-align: right;\">\n",
              "      <th></th>\n",
              "      <th>num_orders</th>\n",
              "    </tr>\n",
              "    <tr>\n",
              "      <th>category</th>\n",
              "      <th></th>\n",
              "    </tr>\n",
              "  </thead>\n",
              "  <tbody>\n",
              "    <tr>\n",
              "      <th>Beverages</th>\n",
              "      <td>40480525</td>\n",
              "    </tr>\n",
              "    <tr>\n",
              "      <th>Biryani</th>\n",
              "      <td>631848</td>\n",
              "    </tr>\n",
              "    <tr>\n",
              "      <th>Desert</th>\n",
              "      <td>1940754</td>\n",
              "    </tr>\n",
              "    <tr>\n",
              "      <th>Extras</th>\n",
              "      <td>3984979</td>\n",
              "    </tr>\n",
              "    <tr>\n",
              "      <th>Fish</th>\n",
              "      <td>871959</td>\n",
              "    </tr>\n",
              "    <tr>\n",
              "      <th>Other Snacks</th>\n",
              "      <td>4766293</td>\n",
              "    </tr>\n",
              "    <tr>\n",
              "      <th>Pasta</th>\n",
              "      <td>1637744</td>\n",
              "    </tr>\n",
              "    <tr>\n",
              "      <th>Pizza</th>\n",
              "      <td>7383720</td>\n",
              "    </tr>\n",
              "    <tr>\n",
              "      <th>Rice Bowl</th>\n",
              "      <td>20874063</td>\n",
              "    </tr>\n",
              "    <tr>\n",
              "      <th>Salad</th>\n",
              "      <td>10944336</td>\n",
              "    </tr>\n",
              "    <tr>\n",
              "      <th>Sandwich</th>\n",
              "      <td>17636782</td>\n",
              "    </tr>\n",
              "    <tr>\n",
              "      <th>Seafood</th>\n",
              "      <td>2715714</td>\n",
              "    </tr>\n",
              "    <tr>\n",
              "      <th>Soup</th>\n",
              "      <td>1039646</td>\n",
              "    </tr>\n",
              "    <tr>\n",
              "      <th>Starters</th>\n",
              "      <td>4649122</td>\n",
              "    </tr>\n",
              "  </tbody>\n",
              "</table>\n",
              "</div>"
            ],
            "text/plain": [
              "              num_orders\n",
              "category                \n",
              "Beverages       40480525\n",
              "Biryani           631848\n",
              "Desert           1940754\n",
              "Extras           3984979\n",
              "Fish              871959\n",
              "Other Snacks     4766293\n",
              "Pasta            1637744\n",
              "Pizza            7383720\n",
              "Rice Bowl       20874063\n",
              "Salad           10944336\n",
              "Sandwich        17636782\n",
              "Seafood          2715714\n",
              "Soup             1039646\n",
              "Starters         4649122"
            ]
          },
          "metadata": {
            "tags": []
          },
          "execution_count": 7
        }
      ]
    },
    {
      "cell_type": "markdown",
      "metadata": {
        "id": "TD0vUhZyMKz6"
      },
      "source": [
        "Next, I will try to visualize this using a bar graph."
      ]
    },
    {
      "cell_type": "markdown",
      "metadata": {
        "id": "pNggxzPQMRER"
      },
      "source": [
        "Bar graphs are best used when we need to compare the quantity of categorical values within the same category.\r\n",
        "\r\n",
        "Bar graph is generated using plt.bar() in matplotlib:"
      ]
    },
    {
      "cell_type": "code",
      "metadata": {
        "colab": {
          "base_uri": "https://localhost:8080/",
          "height": 426
        },
        "id": "CUpmFG49MTQc",
        "outputId": "a2bd92ec-a5c7-4dc9-e82a-a231cd1eea2c"
      },
      "source": [
        "#bar graph\r\n",
        "plt.bar(table.index,table['num_orders'])\r\n",
        "\r\n",
        "#xticks \r\n",
        "plt.xticks(rotation=70) \r\n",
        "\r\n",
        "#x-axis labels \r\n",
        "plt.xlabel('Food item') \r\n",
        "\r\n",
        "#y-axis labels \r\n",
        "plt.ylabel('Quantity sold') \r\n",
        "\r\n",
        "#plot title \r\n",
        "plt.title('Most popular food') \r\n",
        "\r\n",
        "#save plot \r\n",
        "plt.savefig('C:\\\\Users\\\\Dell\\\\Desktop\\\\AV Plotting images\\\\matplotlib_plotting_6.png',dpi=300,bbox_inches='tight') \r\n",
        "\r\n",
        "#display \r\n",
        "plt.show();"
      ],
      "execution_count": null,
      "outputs": [
        {
          "output_type": "display_data",
          "data": {
            "image/png": "[encoded data removed]",
            "text/plain": [
              "<Figure size 576x396 with 1 Axes>"
            ]
          },
          "metadata": {
            "tags": []
          }
        }
      ]
    },
    {
      "cell_type": "markdown",
      "metadata": {
        "id": "Q8FEoK_JM-1S"
      },
      "source": [
        "**2. Box Plot using matplotlib**\r\n",
        "\r\n",
        "Box plot gives statistical information about the distribution of numeric data divided into different groups. It is useful for detecting outliers within each group.\r\n",
        "\r\n"
      ]
    },
    {
      "cell_type": "markdown",
      "metadata": {
        "id": "mz_tJvw6RQwV"
      },
      "source": [
        "The lower, middle and upper part of the box represents the 25th, 50th, and 75th percentile values respectively\r\n",
        "\r\n",
        "The top whisker represents Q3+1.5*IQR\r\n",
        "\r\n",
        "The bottom whisker represents Q1-1.5*IQR\r\n",
        "\r\n",
        "Outliers are shown as scatter points\r\n",
        "\r\n",
        "Shows skewness in the data"
      ]
    },
    {
      "cell_type": "code",
      "metadata": {
        "id": "PSIoJoNzMXcU"
      },
      "source": [
        "#dictionary for base price per cuisine\r\n",
        "c_price = {}\r\n",
        "for i in df['cuisine'].unique():\r\n",
        "    c_price[i] = df[df['cuisine']==i].base_price"
      ],
      "execution_count": null,
      "outputs": []
    },
    {
      "cell_type": "code",
      "metadata": {
        "colab": {
          "base_uri": "https://localhost:8080/",
          "height": 430
        },
        "id": "XDqHu2exNUDM",
        "outputId": "bbf2463b-efe8-4986-d158-e259906c367c"
      },
      "source": [
        "#plotting boxplot \r\n",
        "plt.boxplot([x for x in c_price.values()],labels=[x for x in c_price.keys()]) \r\n",
        "\r\n",
        "#x and y-axis labels \r\n",
        "plt.xlabel('Cuisine') \r\n",
        "plt.ylabel('Price') \r\n",
        "\r\n",
        "#plot title \r\n",
        "plt.title('Analysing cuisine price') \r\n",
        "\r\n",
        "#save and display \r\n",
        "# plt.savefig('C:\\\\Users\\\\Dell\\\\Desktop\\\\matplotlib_plotting_9.png',dpi=300,bbox_inches='tight') \r\n",
        "plt.show();"
      ],
      "execution_count": null,
      "outputs": [
        {
          "output_type": "stream",
          "text": [
            "/usr/local/lib/python3.6/dist-packages/numpy/core/_asarray.py:83: VisibleDeprecationWarning: Creating an ndarray from ragged nested sequences (which is a list-or-tuple of lists-or-tuples-or ndarrays with different lengths or shapes) is deprecated. If you meant to do this, you must specify 'dtype=object' when creating the ndarray\n",
            "  return array(a, dtype, copy=False, order=order)\n"
          ],
          "name": "stderr"
        },
        {
          "output_type": "display_data",
          "data": {
            "image/png": "[encoded data removed]",
            "text/plain": [
              "<Figure size 576x396 with 1 Axes>"
            ]
          },
          "metadata": {
            "tags": []
          }
        }
      ]
    },
    {
      "cell_type": "markdown",
      "metadata": {
        "id": "aqG_n2vQSRpu"
      },
      "source": [
        "**3. Histogram using matplotlib**"
      ]
    },
    {
      "cell_type": "markdown",
      "metadata": {
        "id": "GDCAEVc6Sb5-"
      },
      "source": [
        "A histogram shows the distribution of numeric data through a continuous interval by segmenting data into different bins. Useful for inspecting skewness in the data."
      ]
    },
    {
      "cell_type": "markdown",
      "metadata": {
        "id": "xZH-SNsaSl_N"
      },
      "source": [
        "Since base_price is a continuous variable, we will inspect its range in different distinct orders using a histogram. We can do this using plt.hist().\r\n",
        "\r\n",
        "But the confusing part is what should be the number of bins? By default, it is 10. However, there is no correct answer and you can vary it according to your dataset to best visualize it."
      ]
    },
    {
      "cell_type": "code",
      "metadata": {
        "colab": {
          "base_uri": "https://localhost:8080/",
          "height": 376
        },
        "id": "pe0J4T55Ndu5",
        "outputId": "889e7167-0235-48c3-bc19-6df1668c5567"
      },
      "source": [
        "#plotting histogram \r\n",
        "plt.hist(df['base_price'],rwidth=0.9,alpha=0.3,color='blue',bins=15,edgecolor='red') \r\n",
        "\r\n",
        "#x and y-axis labels \r\n",
        "plt.xlabel('Base price range') \r\n",
        "plt.ylabel('Distinct order') \r\n",
        "\r\n",
        "#plot title \r\n",
        "plt.title('Inspecting price effect') \r\n",
        "\r\n",
        "#save and display the plot \r\n",
        "#plt.savefig('C:\\\\Users\\\\Dell\\\\Desktop\\\\AV Plotting images\\\\matplotlib_plotting_10.png',dpi=300,bbox_inches='tight') \r\n",
        "plt.show();"
      ],
      "execution_count": null,
      "outputs": [
        {
          "output_type": "display_data",
          "data": {
            "image/png": "[encoded data removed]",
            "text/plain": [
              "<Figure size 576x396 with 1 Axes>"
            ]
          },
          "metadata": {
            "tags": []
          }
        }
      ]
    },
    {
      "cell_type": "markdown",
      "metadata": {
        "id": "ki6iLoTUaDJ8"
      },
      "source": [
        "**Following example plots a histogram of marks obtained by students in a class. Four bins, 0-25, 26-50, 51-75, and 76-100 are defined. The Histogram shows number of students falling in this range.**"
      ]
    },
    {
      "cell_type": "code",
      "metadata": {
        "colab": {
          "base_uri": "https://localhost:8080/",
          "height": 376
        },
        "id": "ArW8c9ufUoAT",
        "outputId": "90838728-229a-4d38-84d4-58a9854a40f8"
      },
      "source": [
        "from matplotlib import pyplot as plt\r\n",
        "import numpy as np\r\n",
        "fig,ax = plt.subplots(1,1)\r\n",
        "a = np.array([22,87,5,43,56,73,55,54,11,20,51,5,79,31,27])\r\n",
        "ax.hist(a, bins = [0,25,50,75,100])\r\n",
        "ax.set_title(\"histogram of result\")\r\n",
        "ax.set_xticks([0,25,50,75,100])\r\n",
        "ax.set_xlabel('marks')\r\n",
        "ax.set_ylabel('no. of students')\r\n",
        "plt.show()"
      ],
      "execution_count": null,
      "outputs": [
        {
          "output_type": "display_data",
          "data": {
            "image/png": "[encoded data removed]",
            "text/plain": [
              "<Figure size 576x396 with 1 Axes>"
            ]
          },
          "metadata": {
            "tags": []
          }
        }
      ]
    },
    {
      "cell_type": "markdown",
      "metadata": {
        "id": "OtMlgdIIahsz"
      },
      "source": [
        "**Line Plot and Subplots using matplotlib**"
      ]
    },
    {
      "cell_type": "code",
      "metadata": {
        "colab": {
          "base_uri": "https://localhost:8080/",
          "height": 362
        },
        "id": "ORfvb1_saZHU",
        "outputId": "3f4e57c6-8456-4df2-dce2-d1d55b6967c2"
      },
      "source": [
        "import matplotlib.pyplot as plt\r\n",
        "fig,a =  plt.subplots(2,2)\r\n",
        "import numpy as np\r\n",
        "x = np.arange(1,5)\r\n",
        "a[0][0].plot(x,x*x)\r\n",
        "a[0][0].set_title('square')\r\n",
        "a[0][1].plot(x,np.sqrt(x))\r\n",
        "a[0][1].set_title('square root')\r\n",
        "a[1][0].plot(x,np.exp(x))\r\n",
        "a[1][0].set_title('exp')\r\n",
        "a[1][1].plot(x,np.log10(x))\r\n",
        "a[1][1].set_title('log')\r\n",
        "plt.show()"
      ],
      "execution_count": null,
      "outputs": [
        {
          "output_type": "display_data",
          "data": {
            "image/png": "[encoded data removed]",
            "text/plain": [
              "<Figure size 576x396 with 4 Axes>"
            ]
          },
          "metadata": {
            "tags": []
          }
        }
      ]
    },
    {
      "cell_type": "markdown",
      "metadata": {
        "id": "J4SWAbXZki0N"
      },
      "source": [
        "**Pie Chart**"
      ]
    },
    {
      "cell_type": "code",
      "metadata": {
        "colab": {
          "base_uri": "https://localhost:8080/",
          "height": 319
        },
        "id": "zXAYQC72kUYS",
        "outputId": "26a099b0-ca64-4513-c762-dbbe6fc7a059"
      },
      "source": [
        "from matplotlib import pyplot as plt\r\n",
        "import numpy as np\r\n",
        "fig = plt.figure()\r\n",
        "ax = fig.add_axes([0,0,1,1])\r\n",
        "ax.axis('equal')\r\n",
        "langs = ['C', 'C++', 'Java', 'Python', 'PHP']\r\n",
        "students = [23,17,35,29,12]\r\n",
        "ax.pie(students, labels = langs,autopct='%1.2f%%')\r\n",
        "plt.show()"
      ],
      "execution_count": 1,
      "outputs": [
        {
          "output_type": "display_data",
          "data": {
            "image/png": "[encoded data removed]",
            "text/plain": [
              "<Figure size 432x288 with 1 Axes>"
            ]
          },
          "metadata": {
            "tags": []
          }
        }
      ]
    },
    {
      "cell_type": "markdown",
      "metadata": {
        "id": "NU7aDw2zkt7e"
      },
      "source": [
        "**Scatter Plot**"
      ]
    },
    {
      "cell_type": "code",
      "metadata": {
        "colab": {
          "base_uri": "https://localhost:8080/",
          "height": 366
        },
        "id": "IXqyJN_2kVvy",
        "outputId": "081b7592-9b83-4f59-8614-09fe68343bed"
      },
      "source": [
        "import matplotlib.pyplot as plt\r\n",
        "girls_grades = [89, 90, 70, 89, 100, 80, 90, 100, 80, 34]\r\n",
        "boys_grades = [30, 29, 49, 48, 100, 48, 38, 45, 20, 30]\r\n",
        "grades_range = [10, 20, 30, 40, 50, 60, 70, 80, 90, 100]\r\n",
        "fig=plt.figure()\r\n",
        "ax=fig.add_axes([0,0,1,1])\r\n",
        "ax.scatter(grades_range, girls_grades, color='r')\r\n",
        "ax.scatter(grades_range, boys_grades, color='b')\r\n",
        "ax.set_xlabel('Grades Range')\r\n",
        "ax.set_ylabel('Grades Scored')\r\n",
        "ax.set_title('scatter plot')\r\n",
        "plt.show()"
      ],
      "execution_count": 2,
      "outputs": [
        {
          "output_type": "display_data",
          "data": {
            "image/png": "[encoded data removed]",
            "text/plain": [
              "<Figure size 432x288 with 1 Axes>"
            ]
          },
          "metadata": {
            "tags": [],
            "needs_background": "light"
          }
        }
      ]
    },
    {
      "cell_type": "markdown",
      "metadata": {
        "id": "_jT6RGHylCin"
      },
      "source": [
        "**Violin Plot**"
      ]
    },
    {
      "cell_type": "code",
      "metadata": {
        "colab": {
          "base_uri": "https://localhost:8080/",
          "height": 336
        },
        "id": "b9hHu-tNk18-",
        "outputId": "46627acf-eead-43f9-a1cc-b382c71bd48a"
      },
      "source": [
        "import matplotlib.pyplot as plt\r\n",
        "\r\n",
        "np.random.seed(10)\r\n",
        "collectn_1 = np.random.normal(100, 10, 200)\r\n",
        "collectn_2 = np.random.normal(80, 30, 200)\r\n",
        "collectn_3 = np.random.normal(90, 20, 200)\r\n",
        "collectn_4 = np.random.normal(70, 25, 200)\r\n",
        "\r\n",
        "## combine these different collections into a list\r\n",
        "data_to_plot = [collectn_1, collectn_2, collectn_3, collectn_4]\r\n",
        "\r\n",
        "# Create a figure instance\r\n",
        "fig = plt.figure()\r\n",
        "\r\n",
        "# Create an axes instance\r\n",
        "ax = fig.add_axes([0,0,1,1])\r\n",
        "\r\n",
        "# Create the boxplot\r\n",
        "bp = ax.violinplot(data_to_plot)\r\n",
        "plt.show()"
      ],
      "execution_count": 3,
      "outputs": [
        {
          "output_type": "display_data",
          "data": {
            "image/png": "[encoded data removed]",
            "text/plain": [
              "<Figure size 432x288 with 1 Axes>"
            ]
          },
          "metadata": {
            "tags": [],
            "needs_background": "light"
          }
        }
      ]
    },
    {
      "cell_type": "code",
      "metadata": {
        "id": "n7D2izDulJXf"
      },
      "source": [
        ""
      ],
      "execution_count": null,
      "outputs": []
    }
  ]
}